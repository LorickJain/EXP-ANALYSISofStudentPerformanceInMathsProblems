{
 "cells": [
  {
   "cell_type": "code",
   "execution_count": 404,
   "metadata": {
    "collapsed": true
   },
   "outputs": [],
   "source": [
    "%matplotlib inline\n",
    "import numpy as np\n",
    "import pandas as pd\n",
    "import matplotlib.pyplot as plt\n",
    "from sklearn import tree\n",
    "from sklearn.model_selection import train_test_split\n",
    "from sklearn.model_selection import cross_val_score\n",
    "from sklearn.metrics import accuracy_score \n",
    "from sklearn.svm import SVC"
   ]
  },
  {
   "cell_type": "code",
   "execution_count": 317,
   "metadata": {
    "collapsed": false
   },
   "outputs": [],
   "source": [
    "#Dataset from https://archive.ics.uci.edu/ml/datasets/Student+Performance"
   ]
  },
  {
   "cell_type": "code",
   "execution_count": 318,
   "metadata": {
    "collapsed": false
   },
   "outputs": [
    {
     "name": "stdout",
     "output_type": "stream",
     "text": [
      "   Unnamed: 0 school sex  age address famsize Pstatus  Medu  Fedu     Mjob  \\\n",
      "0           1     GP   F   18       U     GT3       A     4     4  at_home   \n",
      "1           2     GP   F   17       U     GT3       T     1     1  at_home   \n",
      "2           3     GP   F   15       U     LE3       T     1     1  at_home   \n",
      "\n",
      "  ... famrel freetime goout  Dalc  Walc  health absences G1 G2  G3  \n",
      "0 ...      4        3     4     1     1       3        6  5  6   6  \n",
      "1 ...      5        3     3     1     1       3        4  5  5   6  \n",
      "2 ...      4        3     2     2     3       3       10  7  8  10  \n",
      "\n",
      "[3 rows x 34 columns]\n"
     ]
    }
   ],
   "source": [
    "df = pd.read_csv('student_perf.csv')\n",
    "print(df.head(3))"
   ]
  },
  {
   "cell_type": "code",
   "execution_count": 319,
   "metadata": {
    "collapsed": false
   },
   "outputs": [
    {
     "data": {
      "text/html": [
       "<div>\n",
       "<table border=\"1\" class=\"dataframe\">\n",
       "  <thead>\n",
       "    <tr style=\"text-align: right;\">\n",
       "      <th></th>\n",
       "      <th>Unnamed: 0</th>\n",
       "      <th>age</th>\n",
       "      <th>Medu</th>\n",
       "      <th>Fedu</th>\n",
       "      <th>traveltime</th>\n",
       "      <th>studytime</th>\n",
       "      <th>failures</th>\n",
       "      <th>famrel</th>\n",
       "      <th>freetime</th>\n",
       "      <th>goout</th>\n",
       "      <th>Dalc</th>\n",
       "      <th>Walc</th>\n",
       "      <th>health</th>\n",
       "      <th>absences</th>\n",
       "      <th>G1</th>\n",
       "      <th>G2</th>\n",
       "      <th>G3</th>\n",
       "    </tr>\n",
       "  </thead>\n",
       "  <tbody>\n",
       "    <tr>\n",
       "      <th>count</th>\n",
       "      <td>395.000000</td>\n",
       "      <td>395.000000</td>\n",
       "      <td>395.000000</td>\n",
       "      <td>395.000000</td>\n",
       "      <td>395.000000</td>\n",
       "      <td>395.000000</td>\n",
       "      <td>395.000000</td>\n",
       "      <td>395.000000</td>\n",
       "      <td>395.000000</td>\n",
       "      <td>395.000000</td>\n",
       "      <td>395.000000</td>\n",
       "      <td>395.000000</td>\n",
       "      <td>395.000000</td>\n",
       "      <td>395.000000</td>\n",
       "      <td>395.000000</td>\n",
       "      <td>395.000000</td>\n",
       "      <td>395.000000</td>\n",
       "    </tr>\n",
       "    <tr>\n",
       "      <th>mean</th>\n",
       "      <td>198.000000</td>\n",
       "      <td>16.696203</td>\n",
       "      <td>2.749367</td>\n",
       "      <td>2.521519</td>\n",
       "      <td>1.448101</td>\n",
       "      <td>2.035443</td>\n",
       "      <td>0.334177</td>\n",
       "      <td>3.944304</td>\n",
       "      <td>3.235443</td>\n",
       "      <td>3.108861</td>\n",
       "      <td>1.481013</td>\n",
       "      <td>2.291139</td>\n",
       "      <td>3.554430</td>\n",
       "      <td>5.708861</td>\n",
       "      <td>10.908861</td>\n",
       "      <td>10.713924</td>\n",
       "      <td>10.415190</td>\n",
       "    </tr>\n",
       "    <tr>\n",
       "      <th>std</th>\n",
       "      <td>114.170924</td>\n",
       "      <td>1.276043</td>\n",
       "      <td>1.094735</td>\n",
       "      <td>1.088201</td>\n",
       "      <td>0.697505</td>\n",
       "      <td>0.839240</td>\n",
       "      <td>0.743651</td>\n",
       "      <td>0.896659</td>\n",
       "      <td>0.998862</td>\n",
       "      <td>1.113278</td>\n",
       "      <td>0.890741</td>\n",
       "      <td>1.287897</td>\n",
       "      <td>1.390303</td>\n",
       "      <td>8.003096</td>\n",
       "      <td>3.319195</td>\n",
       "      <td>3.761505</td>\n",
       "      <td>4.581443</td>\n",
       "    </tr>\n",
       "    <tr>\n",
       "      <th>min</th>\n",
       "      <td>1.000000</td>\n",
       "      <td>15.000000</td>\n",
       "      <td>0.000000</td>\n",
       "      <td>0.000000</td>\n",
       "      <td>1.000000</td>\n",
       "      <td>1.000000</td>\n",
       "      <td>0.000000</td>\n",
       "      <td>1.000000</td>\n",
       "      <td>1.000000</td>\n",
       "      <td>1.000000</td>\n",
       "      <td>1.000000</td>\n",
       "      <td>1.000000</td>\n",
       "      <td>1.000000</td>\n",
       "      <td>0.000000</td>\n",
       "      <td>3.000000</td>\n",
       "      <td>0.000000</td>\n",
       "      <td>0.000000</td>\n",
       "    </tr>\n",
       "    <tr>\n",
       "      <th>25%</th>\n",
       "      <td>99.500000</td>\n",
       "      <td>16.000000</td>\n",
       "      <td>2.000000</td>\n",
       "      <td>2.000000</td>\n",
       "      <td>1.000000</td>\n",
       "      <td>1.000000</td>\n",
       "      <td>0.000000</td>\n",
       "      <td>4.000000</td>\n",
       "      <td>3.000000</td>\n",
       "      <td>2.000000</td>\n",
       "      <td>1.000000</td>\n",
       "      <td>1.000000</td>\n",
       "      <td>3.000000</td>\n",
       "      <td>0.000000</td>\n",
       "      <td>8.000000</td>\n",
       "      <td>9.000000</td>\n",
       "      <td>8.000000</td>\n",
       "    </tr>\n",
       "    <tr>\n",
       "      <th>50%</th>\n",
       "      <td>198.000000</td>\n",
       "      <td>17.000000</td>\n",
       "      <td>3.000000</td>\n",
       "      <td>2.000000</td>\n",
       "      <td>1.000000</td>\n",
       "      <td>2.000000</td>\n",
       "      <td>0.000000</td>\n",
       "      <td>4.000000</td>\n",
       "      <td>3.000000</td>\n",
       "      <td>3.000000</td>\n",
       "      <td>1.000000</td>\n",
       "      <td>2.000000</td>\n",
       "      <td>4.000000</td>\n",
       "      <td>4.000000</td>\n",
       "      <td>11.000000</td>\n",
       "      <td>11.000000</td>\n",
       "      <td>11.000000</td>\n",
       "    </tr>\n",
       "    <tr>\n",
       "      <th>75%</th>\n",
       "      <td>296.500000</td>\n",
       "      <td>18.000000</td>\n",
       "      <td>4.000000</td>\n",
       "      <td>3.000000</td>\n",
       "      <td>2.000000</td>\n",
       "      <td>2.000000</td>\n",
       "      <td>0.000000</td>\n",
       "      <td>5.000000</td>\n",
       "      <td>4.000000</td>\n",
       "      <td>4.000000</td>\n",
       "      <td>2.000000</td>\n",
       "      <td>3.000000</td>\n",
       "      <td>5.000000</td>\n",
       "      <td>8.000000</td>\n",
       "      <td>13.000000</td>\n",
       "      <td>13.000000</td>\n",
       "      <td>14.000000</td>\n",
       "    </tr>\n",
       "    <tr>\n",
       "      <th>max</th>\n",
       "      <td>395.000000</td>\n",
       "      <td>22.000000</td>\n",
       "      <td>4.000000</td>\n",
       "      <td>4.000000</td>\n",
       "      <td>4.000000</td>\n",
       "      <td>4.000000</td>\n",
       "      <td>3.000000</td>\n",
       "      <td>5.000000</td>\n",
       "      <td>5.000000</td>\n",
       "      <td>5.000000</td>\n",
       "      <td>5.000000</td>\n",
       "      <td>5.000000</td>\n",
       "      <td>5.000000</td>\n",
       "      <td>75.000000</td>\n",
       "      <td>19.000000</td>\n",
       "      <td>19.000000</td>\n",
       "      <td>20.000000</td>\n",
       "    </tr>\n",
       "  </tbody>\n",
       "</table>\n",
       "</div>"
      ],
      "text/plain": [
       "       Unnamed: 0         age        Medu        Fedu  traveltime   studytime  \\\n",
       "count  395.000000  395.000000  395.000000  395.000000  395.000000  395.000000   \n",
       "mean   198.000000   16.696203    2.749367    2.521519    1.448101    2.035443   \n",
       "std    114.170924    1.276043    1.094735    1.088201    0.697505    0.839240   \n",
       "min      1.000000   15.000000    0.000000    0.000000    1.000000    1.000000   \n",
       "25%     99.500000   16.000000    2.000000    2.000000    1.000000    1.000000   \n",
       "50%    198.000000   17.000000    3.000000    2.000000    1.000000    2.000000   \n",
       "75%    296.500000   18.000000    4.000000    3.000000    2.000000    2.000000   \n",
       "max    395.000000   22.000000    4.000000    4.000000    4.000000    4.000000   \n",
       "\n",
       "         failures      famrel    freetime       goout        Dalc        Walc  \\\n",
       "count  395.000000  395.000000  395.000000  395.000000  395.000000  395.000000   \n",
       "mean     0.334177    3.944304    3.235443    3.108861    1.481013    2.291139   \n",
       "std      0.743651    0.896659    0.998862    1.113278    0.890741    1.287897   \n",
       "min      0.000000    1.000000    1.000000    1.000000    1.000000    1.000000   \n",
       "25%      0.000000    4.000000    3.000000    2.000000    1.000000    1.000000   \n",
       "50%      0.000000    4.000000    3.000000    3.000000    1.000000    2.000000   \n",
       "75%      0.000000    5.000000    4.000000    4.000000    2.000000    3.000000   \n",
       "max      3.000000    5.000000    5.000000    5.000000    5.000000    5.000000   \n",
       "\n",
       "           health    absences          G1          G2          G3  \n",
       "count  395.000000  395.000000  395.000000  395.000000  395.000000  \n",
       "mean     3.554430    5.708861   10.908861   10.713924   10.415190  \n",
       "std      1.390303    8.003096    3.319195    3.761505    4.581443  \n",
       "min      1.000000    0.000000    3.000000    0.000000    0.000000  \n",
       "25%      3.000000    0.000000    8.000000    9.000000    8.000000  \n",
       "50%      4.000000    4.000000   11.000000   11.000000   11.000000  \n",
       "75%      5.000000    8.000000   13.000000   13.000000   14.000000  \n",
       "max      5.000000   75.000000   19.000000   19.000000   20.000000  "
      ]
     },
     "execution_count": 319,
     "metadata": {},
     "output_type": "execute_result"
    }
   ],
   "source": [
    "df.describe()"
   ]
  },
  {
   "cell_type": "code",
   "execution_count": 320,
   "metadata": {
    "collapsed": false
   },
   "outputs": [],
   "source": [
    "g1 = df['G1']\n",
    "g2 = df['G2']\n",
    "g3 = df['G3']\n",
    "st = df['studytime']\n",
    "tt = df['traveltime']\n",
    "gt = df['goout']\n",
    "health = df['health']\n",
    "ab = df['absences']\n",
    "Dalco = df['Dalc']\n",
    "Walco = df['Walc']\n",
    "roma = df['romantic']"
   ]
  },
  {
   "cell_type": "code",
   "execution_count": 321,
   "metadata": {
    "collapsed": false
   },
   "outputs": [
    {
     "data": {
      "text/plain": [
       "<matplotlib.text.Text at 0x11e684d50>"
      ]
     },
     "execution_count": 321,
     "metadata": {},
     "output_type": "execute_result"
    },
    {
     "data": {
      "image/png": "[encoded data removed]",
      "text/plain": [
       "<matplotlib.figure.Figure at 0x11db78050>"
      ]
     },
     "metadata": {},
     "output_type": "display_data"
    }
   ],
   "source": [
    "plt.hist(g1, bins = 15)\n",
    "plt.xlabel('G1 Marks')\n",
    "plt.ylabel('No. of Students')"
   ]
  },
  {
   "cell_type": "code",
   "execution_count": 322,
   "metadata": {
    "collapsed": false
   },
   "outputs": [
    {
     "data": {
      "text/plain": [
       "<matplotlib.text.Text at 0x11daf6e10>"
      ]
     },
     "execution_count": 322,
     "metadata": {},
     "output_type": "execute_result"
    },
    {
     "data": {
      "image/png": "[encoded data removed]",
      "text/plain": [
       "<matplotlib.figure.Figure at 0x11db12210>"
      ]
     },
     "metadata": {},
     "output_type": "display_data"
    }
   ],
   "source": [
    "plt.hist(g2, bins = 15)\n",
    "plt.xlabel('G2 Marks')\n",
    "plt.ylabel('No. of Students')"
   ]
  },
  {
   "cell_type": "code",
   "execution_count": 323,
   "metadata": {
    "collapsed": false
   },
   "outputs": [
    {
     "data": {
      "text/plain": [
       "<matplotlib.text.Text at 0x11e21ee90>"
      ]
     },
     "execution_count": 323,
     "metadata": {},
     "output_type": "execute_result"
    },
    {
     "data": {
      "image/png": "[encoded data removed]",
      "text/plain": [
       "<matplotlib.figure.Figure at 0x11df13bd0>"
      ]
     },
     "metadata": {},
     "output_type": "display_data"
    }
   ],
   "source": [
    "plt.hist(g3, bins = 15)\n",
    "plt.xlabel('G3 Marks')\n",
    "plt.ylabel('No. of Students')"
   ]
  },
  {
   "cell_type": "code",
   "execution_count": 324,
   "metadata": {
    "collapsed": false
   },
   "outputs": [
    {
     "name": "stdout",
     "output_type": "stream",
     "text": [
      "Correlation Matrix\n",
      "[[ 1.          0.09781969]\n",
      " [ 0.09781969  1.        ]]\n"
     ]
    },
    {
     "data": {
      "image/png": "[encoded data removed]",
      "text/plain": [
       "<matplotlib.figure.Figure at 0x11e23c8d0>"
      ]
     },
     "metadata": {},
     "output_type": "display_data"
    }
   ],
   "source": [
    "plt.plot(g3,st,'ro')\n",
    "plt.axis(ymin = 0, ymax = 4.5, xmin = 0, xmax = 22)\n",
    "plt.xlabel('G3 Marks')\n",
    "plt.ylabel('Amount of Study Time')\n",
    "c = np.corrcoef(g3,st)\n",
    "print(\"Correlation Matrix\")\n",
    "print(c)"
   ]
  },
  {
   "cell_type": "code",
   "execution_count": 325,
   "metadata": {
    "collapsed": false
   },
   "outputs": [
    {
     "name": "stdout",
     "output_type": "stream",
     "text": [
      "Correlation Matrix\n",
      "[[ 1.         -0.11714205]\n",
      " [-0.11714205  1.        ]]\n"
     ]
    },
    {
     "data": {
      "image/png": "[encoded data removed]",
      "text/plain": [
       "<matplotlib.figure.Figure at 0x11d97e850>"
      ]
     },
     "metadata": {},
     "output_type": "display_data"
    }
   ],
   "source": [
    "plt.plot(g3,tt,'ro')\n",
    "plt.axis(ymin = 0, ymax = 5, xmin = 0, xmax = 22)\n",
    "plt.xlabel('G3 Marks')\n",
    "plt.ylabel('Amount of Travel Time')\n",
    "c = np.corrcoef(g3,tt)\n",
    "print(\"Correlation Matrix\")\n",
    "print(c)"
   ]
  },
  {
   "cell_type": "code",
   "execution_count": 326,
   "metadata": {
    "collapsed": false
   },
   "outputs": [
    {
     "name": "stdout",
     "output_type": "stream",
     "text": [
      "Correlation Matrix\n",
      "[[ 1.         -0.13279147]\n",
      " [-0.13279147  1.        ]]\n"
     ]
    },
    {
     "data": {
      "image/png": "[encoded data removed]",
      "text/plain": [
       "<matplotlib.figure.Figure at 0x11c442b50>"
      ]
     },
     "metadata": {},
     "output_type": "display_data"
    }
   ],
   "source": [
    "plt.plot(g3,gt,'ro')\n",
    "plt.axis(ymin = 0, ymax = 6, xmin = 0, xmax = 22)\n",
    "plt.xlabel('G3 Marks')\n",
    "plt.ylabel('Amount of Go Out Time')\n",
    "c = np.corrcoef(g3,gt)\n",
    "print(\"Correlation Matrix\")\n",
    "print(c)"
   ]
  },
  {
   "cell_type": "code",
   "execution_count": 327,
   "metadata": {
    "collapsed": false
   },
   "outputs": [
    {
     "name": "stdout",
     "output_type": "stream",
     "text": [
      "Correlation Matrix\n",
      "[[ 1.        -0.0613346]\n",
      " [-0.0613346  1.       ]]\n"
     ]
    },
    {
     "data": {
      "image/png": "[encoded data removed]",
      "text/plain": [
       "<matplotlib.figure.Figure at 0x1225e52d0>"
      ]
     },
     "metadata": {},
     "output_type": "display_data"
    }
   ],
   "source": [
    "plt.plot(g3,health,'ro')\n",
    "plt.axis(ymin = 0, ymax = 6, xmin = 0, xmax = 22)\n",
    "plt.xlabel('G3 Marks')\n",
    "plt.ylabel('Health')\n",
    "c = np.corrcoef(g3,health)\n",
    "print(\"Correlation Matrix\")\n",
    "print(c)"
   ]
  },
  {
   "cell_type": "code",
   "execution_count": 328,
   "metadata": {
    "collapsed": false
   },
   "outputs": [
    {
     "name": "stdout",
     "output_type": "stream",
     "text": [
      "Correlation Matrix\n",
      "[[ 1.          0.03424732]\n",
      " [ 0.03424732  1.        ]]\n"
     ]
    },
    {
     "data": {
      "image/png": "[encoded data removed]",
      "text/plain": [
       "<matplotlib.figure.Figure at 0x12260f790>"
      ]
     },
     "metadata": {},
     "output_type": "display_data"
    }
   ],
   "source": [
    "plt.plot(g3,ab,'ro')\n",
    "plt.axis(xmax = 22,ymax = 95)\n",
    "plt.xlabel('G3 Marks')\n",
    "plt.ylabel('No. of Absences')\n",
    "c = np.corrcoef(g3,ab)\n",
    "print(\"Correlation Matrix\")\n",
    "print(c)"
   ]
  },
  {
   "cell_type": "code",
   "execution_count": 329,
   "metadata": {
    "collapsed": false
   },
   "outputs": [
    {
     "name": "stdout",
     "output_type": "stream",
     "text": [
      "Correlation Matrix\n",
      "[[ 1.          0.80146793]\n",
      " [ 0.80146793  1.        ]]\n"
     ]
    },
    {
     "data": {
      "image/png": "[encoded data removed]",
      "text/plain": [
       "<matplotlib.figure.Figure at 0x122849c50>"
      ]
     },
     "metadata": {},
     "output_type": "display_data"
    }
   ],
   "source": [
    "#Useful for Performance Prediction\n",
    "plt.plot(g3,g1,'ro')\n",
    "plt.axis(xmax = 22,ymax = 22)\n",
    "plt.xlabel('G3 Marks')\n",
    "plt.ylabel('G1 Marks')\n",
    "c = np.corrcoef(g3,g1)\n",
    "print(\"Correlation Matrix\")\n",
    "print(c)"
   ]
  },
  {
   "cell_type": "code",
   "execution_count": 330,
   "metadata": {
    "collapsed": false
   },
   "outputs": [
    {
     "name": "stdout",
     "output_type": "stream",
     "text": [
      "Correlation Matrix\n",
      "[[ 1.          0.90486799]\n",
      " [ 0.90486799  1.        ]]\n"
     ]
    },
    {
     "data": {
      "image/png": "[encoded data removed]",
      "text/plain": [
       "<matplotlib.figure.Figure at 0x1227bafd0>"
      ]
     },
     "metadata": {},
     "output_type": "display_data"
    }
   ],
   "source": [
    "#Useful for Performance Prediction\n",
    "plt.plot(g3,g2,'ro')\n",
    "plt.axis(xmax = 22,ymax = 22)\n",
    "plt.xlabel('G3 Marks')\n",
    "plt.ylabel('G2 Marks')\n",
    "c = np.corrcoef(g3,g2)\n",
    "print(\"Correlation Matrix\")\n",
    "print(c)"
   ]
  },
  {
   "cell_type": "code",
   "execution_count": 331,
   "metadata": {
    "collapsed": false
   },
   "outputs": [
    {
     "data": {
      "text/plain": [
       "<matplotlib.text.Text at 0x1226242d0>"
      ]
     },
     "execution_count": 331,
     "metadata": {},
     "output_type": "execute_result"
    },
    {
     "data": {
      "image/png": "[encoded data removed]",
      "text/plain": [
       "<matplotlib.figure.Figure at 0x121eb7e50>"
      ]
     },
     "metadata": {},
     "output_type": "display_data"
    }
   ],
   "source": [
    "plt.hist(Dalco, bins = 15)\n",
    "plt.xlabel('Workday Alcohol Consumption Level')\n",
    "plt.ylabel('No. of Students')"
   ]
  },
  {
   "cell_type": "code",
   "execution_count": 332,
   "metadata": {
    "collapsed": false
   },
   "outputs": [
    {
     "name": "stdout",
     "output_type": "stream",
     "text": [
      "Correlation Matrix\n",
      "[[ 1.         -0.05466004]\n",
      " [-0.05466004  1.        ]]\n"
     ]
    },
    {
     "data": {
      "image/png": "[encoded data removed]",
      "text/plain": [
       "<matplotlib.figure.Figure at 0x11dd4ef50>"
      ]
     },
     "metadata": {},
     "output_type": "display_data"
    }
   ],
   "source": [
    "#Strong Factor\n",
    "plt.plot(g3,Dalco,'ro')\n",
    "plt.axis(xmax = 22,ymax = 6, ymin = 0)\n",
    "plt.xlabel('G3 Marks')\n",
    "plt.ylabel('Workday Alcohol Consumption Level')\n",
    "c = np.corrcoef(g3,Dalco)\n",
    "print(\"Correlation Matrix\")\n",
    "print(c)"
   ]
  },
  {
   "cell_type": "code",
   "execution_count": 333,
   "metadata": {
    "collapsed": false
   },
   "outputs": [
    {
     "data": {
      "text/plain": [
       "<matplotlib.text.Text at 0x11dd6ee10>"
      ]
     },
     "execution_count": 333,
     "metadata": {},
     "output_type": "execute_result"
    },
    {
     "data": {
      "image/png": "[encoded data removed]",
      "text/plain": [
       "<matplotlib.figure.Figure at 0x11dc51e90>"
      ]
     },
     "metadata": {},
     "output_type": "display_data"
    }
   ],
   "source": [
    "plt.hist(Walco, bins = 15)\n",
    "plt.xlabel('Weekend Alcohol Consumption Level')\n",
    "plt.ylabel('No. of Students')"
   ]
  },
  {
   "cell_type": "code",
   "execution_count": 334,
   "metadata": {
    "collapsed": false
   },
   "outputs": [
    {
     "name": "stdout",
     "output_type": "stream",
     "text": [
      "Correlation Matrix\n",
      "[[ 1.         -0.05193932]\n",
      " [-0.05193932  1.        ]]\n"
     ]
    },
    {
     "data": {
      "image/png": "[encoded data removed]",
      "text/plain": [
       "<matplotlib.figure.Figure at 0x11dc701d0>"
      ]
     },
     "metadata": {},
     "output_type": "display_data"
    }
   ],
   "source": [
    "#Weak Factor\n",
    "plt.plot(g3,Walco,'ro')\n",
    "plt.axis(xmax = 22,ymax = 6, ymin = 0)\n",
    "plt.xlabel('G3 Marks')\n",
    "plt.ylabel('Workday Alcohol Consumption Level')\n",
    "c = np.corrcoef(g3,Walco)\n",
    "print(\"Correlation Matrix\")\n",
    "print(c)"
   ]
  },
  {
   "cell_type": "code",
   "execution_count": 339,
   "metadata": {
    "collapsed": false,
    "scrolled": true
   },
   "outputs": [],
   "source": [
    "# 16-20: 1, 14-15: 2, 12-13: 3, 10-11: 4, 0-9: 5\n",
    "A = [16,17,18,19,20]\n",
    "B = [14,15]\n",
    "C = [12,13]\n",
    "D = [10,11]\n",
    "F = [0,1,2,3,4,5,6,7,8,9]\n",
    "G1_grades = []\n",
    "G2_grades = []\n",
    "G3_grades = []\n",
    "for index, row in df.iterrows():\n",
    "    score = row['G1']\n",
    "    if score in A:\n",
    "        G1_grades.append(1)\n",
    "    elif score in B:\n",
    "        G1_grades.append(2)\n",
    "    elif score in C:\n",
    "        G1_grades.append(3)\n",
    "    elif score in D:\n",
    "        G1_grades.append(4)\n",
    "    else:\n",
    "        G1_grades.append(5)\n",
    "\n",
    "for index, row in df.iterrows():\n",
    "    score = row['G2']\n",
    "    if score in A:\n",
    "        G2_grades.append(1)\n",
    "    elif score in B:\n",
    "        G2_grades.append(2)\n",
    "    elif score in C:\n",
    "        G2_grades.append(3)\n",
    "    elif score in D:\n",
    "        G2_grades.append(4)\n",
    "    else:\n",
    "        G2_grades.append(5)\n",
    "        \n",
    "for index, row in df.iterrows():\n",
    "    score = row['G3']\n",
    "    if score in A:\n",
    "        G3_grades.append(1)\n",
    "    elif score in B:\n",
    "        G3_grades.append(2)\n",
    "    elif score in C:\n",
    "        G3_grades.append(3)\n",
    "    elif score in D:\n",
    "        G3_grades.append(4)\n",
    "    else:\n",
    "        G3_grades.append(5)\n",
    "\n",
    "for index, row in df.iterrows():\n",
    "    inter = df['internet']\n",
    "    if inter is 'yes':\n",
    "        df['inter'] = 1\n",
    "    else:\n",
    "        df['inter'] = 0\n",
    "    "
   ]
  },
  {
   "cell_type": "code",
   "execution_count": 340,
   "metadata": {
    "collapsed": false
   },
   "outputs": [],
   "source": [
    "df['G1_grades'] = G1_grades\n",
    "df['G2_grades'] = G2_grades\n",
    "df['G3_grades'] = G3_grades"
   ]
  },
  {
   "cell_type": "code",
   "execution_count": 341,
   "metadata": {
    "collapsed": false
   },
   "outputs": [
    {
     "data": {
      "text/html": [
       "<div>\n",
       "<table border=\"1\" class=\"dataframe\">\n",
       "  <thead>\n",
       "    <tr style=\"text-align: right;\">\n",
       "      <th></th>\n",
       "      <th>Unnamed: 0</th>\n",
       "      <th>school</th>\n",
       "      <th>sex</th>\n",
       "      <th>age</th>\n",
       "      <th>address</th>\n",
       "      <th>famsize</th>\n",
       "      <th>Pstatus</th>\n",
       "      <th>Medu</th>\n",
       "      <th>Fedu</th>\n",
       "      <th>Mjob</th>\n",
       "      <th>...</th>\n",
       "      <th>Walc</th>\n",
       "      <th>health</th>\n",
       "      <th>absences</th>\n",
       "      <th>G1</th>\n",
       "      <th>G2</th>\n",
       "      <th>G3</th>\n",
       "      <th>inter</th>\n",
       "      <th>G1_grades</th>\n",
       "      <th>G2_grades</th>\n",
       "      <th>G3_grades</th>\n",
       "    </tr>\n",
       "  </thead>\n",
       "  <tbody>\n",
       "    <tr>\n",
       "      <th>0</th>\n",
       "      <td>1</td>\n",
       "      <td>GP</td>\n",
       "      <td>F</td>\n",
       "      <td>18</td>\n",
       "      <td>U</td>\n",
       "      <td>GT3</td>\n",
       "      <td>A</td>\n",
       "      <td>4</td>\n",
       "      <td>4</td>\n",
       "      <td>at_home</td>\n",
       "      <td>...</td>\n",
       "      <td>1</td>\n",
       "      <td>3</td>\n",
       "      <td>6</td>\n",
       "      <td>5</td>\n",
       "      <td>6</td>\n",
       "      <td>6</td>\n",
       "      <td>0</td>\n",
       "      <td>5</td>\n",
       "      <td>5</td>\n",
       "      <td>5</td>\n",
       "    </tr>\n",
       "    <tr>\n",
       "      <th>1</th>\n",
       "      <td>2</td>\n",
       "      <td>GP</td>\n",
       "      <td>F</td>\n",
       "      <td>17</td>\n",
       "      <td>U</td>\n",
       "      <td>GT3</td>\n",
       "      <td>T</td>\n",
       "      <td>1</td>\n",
       "      <td>1</td>\n",
       "      <td>at_home</td>\n",
       "      <td>...</td>\n",
       "      <td>1</td>\n",
       "      <td>3</td>\n",
       "      <td>4</td>\n",
       "      <td>5</td>\n",
       "      <td>5</td>\n",
       "      <td>6</td>\n",
       "      <td>0</td>\n",
       "      <td>5</td>\n",
       "      <td>5</td>\n",
       "      <td>5</td>\n",
       "    </tr>\n",
       "    <tr>\n",
       "      <th>2</th>\n",
       "      <td>3</td>\n",
       "      <td>GP</td>\n",
       "      <td>F</td>\n",
       "      <td>15</td>\n",
       "      <td>U</td>\n",
       "      <td>LE3</td>\n",
       "      <td>T</td>\n",
       "      <td>1</td>\n",
       "      <td>1</td>\n",
       "      <td>at_home</td>\n",
       "      <td>...</td>\n",
       "      <td>3</td>\n",
       "      <td>3</td>\n",
       "      <td>10</td>\n",
       "      <td>7</td>\n",
       "      <td>8</td>\n",
       "      <td>10</td>\n",
       "      <td>0</td>\n",
       "      <td>5</td>\n",
       "      <td>5</td>\n",
       "      <td>4</td>\n",
       "    </tr>\n",
       "    <tr>\n",
       "      <th>3</th>\n",
       "      <td>4</td>\n",
       "      <td>GP</td>\n",
       "      <td>F</td>\n",
       "      <td>15</td>\n",
       "      <td>U</td>\n",
       "      <td>GT3</td>\n",
       "      <td>T</td>\n",
       "      <td>4</td>\n",
       "      <td>2</td>\n",
       "      <td>health</td>\n",
       "      <td>...</td>\n",
       "      <td>1</td>\n",
       "      <td>5</td>\n",
       "      <td>2</td>\n",
       "      <td>15</td>\n",
       "      <td>14</td>\n",
       "      <td>15</td>\n",
       "      <td>0</td>\n",
       "      <td>2</td>\n",
       "      <td>2</td>\n",
       "      <td>2</td>\n",
       "    </tr>\n",
       "    <tr>\n",
       "      <th>4</th>\n",
       "      <td>5</td>\n",
       "      <td>GP</td>\n",
       "      <td>F</td>\n",
       "      <td>16</td>\n",
       "      <td>U</td>\n",
       "      <td>GT3</td>\n",
       "      <td>T</td>\n",
       "      <td>3</td>\n",
       "      <td>3</td>\n",
       "      <td>other</td>\n",
       "      <td>...</td>\n",
       "      <td>2</td>\n",
       "      <td>5</td>\n",
       "      <td>4</td>\n",
       "      <td>6</td>\n",
       "      <td>10</td>\n",
       "      <td>10</td>\n",
       "      <td>0</td>\n",
       "      <td>5</td>\n",
       "      <td>4</td>\n",
       "      <td>4</td>\n",
       "    </tr>\n",
       "  </tbody>\n",
       "</table>\n",
       "<p>5 rows × 38 columns</p>\n",
       "</div>"
      ],
      "text/plain": [
       "   Unnamed: 0 school sex  age address famsize Pstatus  Medu  Fedu     Mjob  \\\n",
       "0           1     GP   F   18       U     GT3       A     4     4  at_home   \n",
       "1           2     GP   F   17       U     GT3       T     1     1  at_home   \n",
       "2           3     GP   F   15       U     LE3       T     1     1  at_home   \n",
       "3           4     GP   F   15       U     GT3       T     4     2   health   \n",
       "4           5     GP   F   16       U     GT3       T     3     3    other   \n",
       "\n",
       "     ...    Walc health absences  G1  G2  G3 inter G1_grades G2_grades  \\\n",
       "0    ...       1      3        6   5   6   6     0         5         5   \n",
       "1    ...       1      3        4   5   5   6     0         5         5   \n",
       "2    ...       3      3       10   7   8  10     0         5         5   \n",
       "3    ...       1      5        2  15  14  15     0         2         2   \n",
       "4    ...       2      5        4   6  10  10     0         5         4   \n",
       "\n",
       "  G3_grades  \n",
       "0         5  \n",
       "1         5  \n",
       "2         4  \n",
       "3         2  \n",
       "4         4  \n",
       "\n",
       "[5 rows x 38 columns]"
      ]
     },
     "execution_count": 341,
     "metadata": {},
     "output_type": "execute_result"
    }
   ],
   "source": [
    "df.head()"
   ]
  },
  {
   "cell_type": "code",
   "execution_count": 444,
   "metadata": {
    "collapsed": false
   },
   "outputs": [
    {
     "name": "stdout",
     "output_type": "stream",
     "text": [
      "0.663949191214\n"
     ]
    }
   ],
   "source": [
    "#DT All factors\n",
    "g1g2 = []\n",
    "for i in range(0,len(G1_grades)):\n",
    "    g1g2.append([df['G1'][i],df['G2'][i],df['Medu'][i],df['Fedu'][i],df['Dalc'][i],df['Walc'][i],df['absences'][i],df['health'][i],df['traveltime'][i],df['inter'][i]])\n",
    "g3 = list(df['G3_grades'])\n",
    "X = g1g2\n",
    "y = g3\n",
    "\n",
    "clf = tree.DecisionTreeClassifier()\n",
    "score = cross_val_score(clf,g1g2,g3)\n",
    "print(score.mean())"
   ]
  },
  {
   "cell_type": "code",
   "execution_count": 438,
   "metadata": {
    "collapsed": false
   },
   "outputs": [
    {
     "name": "stdout",
     "output_type": "stream",
     "text": [
      "0.620095938394\n"
     ]
    }
   ],
   "source": [
    "#Mother education, Daily Alcohol, Travel Time\n",
    "g1g2 = []\n",
    "for i in range(0,len(G1_grades)):\n",
    "    g1g2.append([df['G1'][i],df['G2'][i],df['Medu'][i],df['Dalc'][i],df['traveltime'][i],])\n",
    "X = g1g2\n",
    "y = g3\n",
    "X_train, X_test, y_train, y_test = train_test_split(X, y,test_size = 0.4)\n",
    "clf = tree.DecisionTreeClassifier()\n",
    "score = cross_val_score(clf,g1g2,g3)\n",
    "print(score.mean())"
   ]
  },
  {
   "cell_type": "code",
   "execution_count": 437,
   "metadata": {
    "collapsed": false
   },
   "outputs": [
    {
     "name": "stdout",
     "output_type": "stream",
     "text": [
      "0.660543144524\n"
     ]
    }
   ],
   "source": [
    "#Daily Alcohol, Travel Time\n",
    "g1g2 = []\n",
    "for i in range(0,len(G1_grades)):\n",
    "    g1g2.append([df['G1'][i],df['G2'][i],df['Dalc'][i],df['traveltime'][i]])\n",
    "X = g1g2\n",
    "y = g3\n",
    "X_train, X_test, y_train, y_test = train_test_split(X, y,test_size = 0.4)\n",
    "clf = tree.DecisionTreeClassifier()\n",
    "score = cross_val_score(clf,g1g2,g3)\n",
    "print(score.mean())"
   ]
  },
  {
   "cell_type": "code",
   "execution_count": 433,
   "metadata": {
    "collapsed": false
   },
   "outputs": [
    {
     "name": "stdout",
     "output_type": "stream",
     "text": [
      "0.708723557784\n"
     ]
    }
   ],
   "source": [
    "#Travel Time, internet\n",
    "g1g2 = []\n",
    "for i in range(0,len(G1_grades)):\n",
    "    g1g2.append([df['G1'][i],df['G2'][i],df['traveltime'][i],df['inter'][i]])\n",
    "X = g1g2\n",
    "y = g3\n",
    "X_train, X_test, y_train, y_test = train_test_split(X, y,test_size = 0.4)\n",
    "clf = tree.DecisionTreeClassifier()\n",
    "score = cross_val_score(clf,g1g2,g3)\n",
    "print(score.mean())"
   ]
  },
  {
   "cell_type": "code",
   "execution_count": 455,
   "metadata": {
    "collapsed": false
   },
   "outputs": [
    {
     "name": "stdout",
     "output_type": "stream",
     "text": [
      "0.607351965948\n"
     ]
    }
   ],
   "source": [
    "#SVM\n",
    "#All factors\n",
    "g1g2 = []\n",
    "for i in range(0,len(G1_grades)):\n",
    "    g1g2.append([df['G1'][i],df['G2'][i],df['Medu'][i],df['Fedu'][i],df['Dalc'][i],df['Walc'][i],df['absences'][i],df['health'][i],df['traveltime'][i],df['inter'][i]])\n",
    "g3 = list(df['G3_grades'])\n",
    "X = g1g2\n",
    "y = g3\n",
    "\n",
    "clf = SVC()\n",
    "score = cross_val_score(clf,g1g2,g3)\n",
    "print(score.mean())"
   ]
  },
  {
   "cell_type": "code",
   "execution_count": 456,
   "metadata": {
    "collapsed": false
   },
   "outputs": [
    {
     "name": "stdout",
     "output_type": "stream",
     "text": [
      "0.716147097747\n"
     ]
    }
   ],
   "source": [
    "#Mother education, Daily Alcohol, Travel Time\n",
    "g1g2 = []\n",
    "for i in range(0,len(G1_grades)):\n",
    "    g1g2.append([df['G1'][i],df['G2'][i],df['Medu'][i],df['Dalc'][i],df['traveltime'][i]])\n",
    "X = g1g2\n",
    "y = g3\n",
    "X_train, X_test, y_train, y_test = train_test_split(X, y,test_size = 0.4)\n",
    "clf = SVC()\n",
    "score = cross_val_score(clf,g1g2,g3)\n",
    "print(score.mean())"
   ]
  },
  {
   "cell_type": "code",
   "execution_count": 450,
   "metadata": {
    "collapsed": false
   },
   "outputs": [
    {
     "name": "stdout",
     "output_type": "stream",
     "text": [
      "0.759468073607\n"
     ]
    }
   ],
   "source": [
    "#Daily Alcohol, Travel Time\n",
    "g1g2 = []\n",
    "for i in range(0,len(G1_grades)):\n",
    "    g1g2.append([df['G1'][i],df['G2'][i],df['Dalc'][i],df['traveltime'][i]])\n",
    "X = g1g2\n",
    "y = g3\n",
    "X_train, X_test, y_train, y_test = train_test_split(X, y,test_size = 0.4)\n",
    "clf = SVC()\n",
    "score = cross_val_score(clf,g1g2,g3)\n",
    "print(score.mean())"
   ]
  },
  {
   "cell_type": "code",
   "execution_count": 457,
   "metadata": {
    "collapsed": false
   },
   "outputs": [
    {
     "name": "stdout",
     "output_type": "stream",
     "text": [
      "0.744006917848\n"
     ]
    }
   ],
   "source": [
    "#Travel Time\n",
    "g1g2 = []\n",
    "for i in range(0,len(G1_grades)):\n",
    "    g1g2.append([df['G1'][i],df['G2'][i],df['traveltime'][i],df['inter'][i]])\n",
    "X = g1g2\n",
    "y = g3\n",
    "clf = SVC()\n",
    "score = cross_val_score(clf,g1g2,g3)\n",
    "print(score.mean())"
   ]
  },
  {
   "cell_type": "code",
   "execution_count": null,
   "metadata": {
    "collapsed": true
   },
   "outputs": [],
   "source": []
  }
 ],
 "metadata": {
  "anaconda-cloud": {},
  "kernelspec": {
   "display_name": "Python [Root]",
   "language": "python",
   "name": "Python [Root]"
  },
  "language_info": {
   "codemirror_mode": {
    "name": "ipython",
    "version": 2
   },
   "file_extension": ".py",
   "mimetype": "text/x-python",
   "name": "python",
   "nbconvert_exporter": "python",
   "pygments_lexer": "ipython2",
   "version": "2.7.12"
  }
 },
 "nbformat": 4,
 "nbformat_minor": 0
}
